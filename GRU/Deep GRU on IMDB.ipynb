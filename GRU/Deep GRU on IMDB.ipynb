{
 "cells": [
  {
   "cell_type": "code",
   "execution_count": 2,
   "id": "initial_id",
   "metadata": {
    "collapsed": true,
    "ExecuteTime": {
     "end_time": "2024-12-23T10:24:43.778997Z",
     "start_time": "2024-12-23T10:24:43.771335Z"
    }
   },
   "outputs": [],
   "source": [
    "import tensorflow as tf\n",
    "from tensorflow.keras.datasets import imdb\n",
    "from tensorflow.keras.preprocessing.sequence import pad_sequences\n",
    "from tensorflow.keras.models import Sequential\n",
    "from tensorflow.keras.layers import Embedding, GRU, Dense"
   ]
  },
  {
   "cell_type": "code",
   "outputs": [],
   "source": [
    "# load the imdb dataset\n",
    "(x_train, y_train), (x_test, y_test) = imdb.load_data(num_words=10000)\n",
    "\n",
    "# Pad sequence to have same length\n",
    "x_train = pad_sequences(x_train, maxlen=100)\n",
    "x_test = pad_sequences(x_test, maxlen=100)"
   ],
   "metadata": {
    "collapsed": false,
    "ExecuteTime": {
     "end_time": "2024-12-23T10:26:26.754941Z",
     "start_time": "2024-12-23T10:26:24.177657Z"
    }
   },
   "id": "59b8df154c22c19c",
   "execution_count": 3
  },
  {
   "cell_type": "code",
   "outputs": [],
   "source": [
    "# Model \n",
    "model = Sequential()\n",
    "model.add(Embedding(10000, 32, input_length=100)) # Embedding layer to convert the word into vector\n",
    "model.add(GRU(5, return_sequences=True))          # Keep the return_sequence true here because you want to send the output of this layer to next GRU layer. \n",
    "model.add(GRU(5))\n",
    "model.add(Dense(1, activation='sigmoid'))"
   ],
   "metadata": {
    "collapsed": false,
    "ExecuteTime": {
     "end_time": "2024-12-23T10:28:51.653901Z",
     "start_time": "2024-12-23T10:28:51.277365Z"
    }
   },
   "id": "2bf1cc00058b115c",
   "execution_count": 4
  },
  {
   "cell_type": "code",
   "outputs": [
    {
     "name": "stdout",
     "output_type": "stream",
     "text": [
      "Model: \"sequential\"\n",
      "_________________________________________________________________\n",
      " Layer (type)                Output Shape              Param #   \n",
      "=================================================================\n",
      " embedding (Embedding)       (None, 100, 32)           320000    \n",
      "                                                                 \n",
      " gru (GRU)                   (None, 100, 5)            585       \n",
      "                                                                 \n",
      " gru_1 (GRU)                 (None, 5)                 180       \n",
      "                                                                 \n",
      " dense (Dense)               (None, 1)                 6         \n",
      "                                                                 \n",
      "=================================================================\n",
      "Total params: 320771 (1.22 MB)\n",
      "Trainable params: 320771 (1.22 MB)\n",
      "Non-trainable params: 0 (0.00 Byte)\n",
      "_________________________________________________________________\n"
     ]
    }
   ],
   "source": [
    "model.summary()"
   ],
   "metadata": {
    "collapsed": false,
    "ExecuteTime": {
     "end_time": "2024-12-23T10:28:57.005688Z",
     "start_time": "2024-12-23T10:28:56.980072Z"
    }
   },
   "id": "bc502cf7a227ecea",
   "execution_count": 5
  },
  {
   "cell_type": "code",
   "outputs": [],
   "source": [
    "# Compile the model\n",
    "model.compile(optimizer='adam', loss='binary_crossentropy', metrics=['accuracy'])"
   ],
   "metadata": {
    "collapsed": false,
    "ExecuteTime": {
     "end_time": "2024-12-23T10:30:54.990459Z",
     "start_time": "2024-12-23T10:30:54.956291Z"
    }
   },
   "id": "9c83b9fb999013f8",
   "execution_count": 6
  },
  {
   "cell_type": "code",
   "outputs": [
    {
     "name": "stdout",
     "output_type": "stream",
     "text": [
      "Epoch 1/10\n",
      "625/625 [==============================] - 12s 16ms/step - loss: 0.5198 - accuracy: 0.7335 - val_loss: 0.4112 - val_accuracy: 0.8232\n",
      "Epoch 2/10\n",
      "625/625 [==============================] - 11s 17ms/step - loss: 0.3139 - accuracy: 0.8741 - val_loss: 0.3822 - val_accuracy: 0.8366\n",
      "Epoch 3/10\n",
      "625/625 [==============================] - 10s 16ms/step - loss: 0.2381 - accuracy: 0.9119 - val_loss: 0.3971 - val_accuracy: 0.8336\n",
      "Epoch 4/10\n",
      "625/625 [==============================] - 10s 15ms/step - loss: 0.1929 - accuracy: 0.9322 - val_loss: 0.4206 - val_accuracy: 0.8390\n",
      "Epoch 5/10\n",
      "625/625 [==============================] - 10s 15ms/step - loss: 0.1551 - accuracy: 0.9508 - val_loss: 0.4880 - val_accuracy: 0.8266\n",
      "Epoch 6/10\n",
      "625/625 [==============================] - 10s 15ms/step - loss: 0.1283 - accuracy: 0.9603 - val_loss: 0.5071 - val_accuracy: 0.8320\n",
      "Epoch 7/10\n",
      "625/625 [==============================] - 10s 15ms/step - loss: 0.1071 - accuracy: 0.9679 - val_loss: 0.5578 - val_accuracy: 0.8276\n",
      "Epoch 8/10\n",
      "625/625 [==============================] - 10s 16ms/step - loss: 0.0823 - accuracy: 0.9778 - val_loss: 0.5894 - val_accuracy: 0.8262\n",
      "Epoch 9/10\n",
      "625/625 [==============================] - 10s 16ms/step - loss: 0.0650 - accuracy: 0.9839 - val_loss: 0.6891 - val_accuracy: 0.8176\n",
      "Epoch 10/10\n",
      "625/625 [==============================] - 10s 16ms/step - loss: 0.0630 - accuracy: 0.9838 - val_loss: 0.6915 - val_accuracy: 0.8220\n"
     ]
    }
   ],
   "source": [
    "# Train the model\n",
    "history = model.fit(x_train, y_train, epochs=10, batch_size=32, validation_split=0.2)"
   ],
   "metadata": {
    "collapsed": false,
    "ExecuteTime": {
     "end_time": "2024-12-23T10:33:37.471621Z",
     "start_time": "2024-12-23T10:31:56.903976Z"
    }
   },
   "id": "df8472b10624c0ee",
   "execution_count": 7
  }
 ],
 "metadata": {
  "kernelspec": {
   "display_name": "Python 3",
   "language": "python",
   "name": "python3"
  },
  "language_info": {
   "codemirror_mode": {
    "name": "ipython",
    "version": 2
   },
   "file_extension": ".py",
   "mimetype": "text/x-python",
   "name": "python",
   "nbconvert_exporter": "python",
   "pygments_lexer": "ipython2",
   "version": "2.7.6"
  }
 },
 "nbformat": 4,
 "nbformat_minor": 5
}
