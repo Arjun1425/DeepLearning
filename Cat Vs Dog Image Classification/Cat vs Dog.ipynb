{
 "cells": [
  {
   "cell_type": "markdown",
   "source": [
    "## Data pre-processing and data augmentation"
   ],
   "metadata": {
    "collapsed": false
   },
   "id": "f16fdf28fa84278b"
  },
  {
   "cell_type": "markdown",
   "source": [
    "To read the detail explanation about this you can use the following link: https://blog.keras.io/building-powerful-image-classification-models-using-very-little-data.html"
   ],
   "metadata": {
    "collapsed": false
   },
   "id": "bbe7622ac29f765e"
  },
  {
   "cell_type": "markdown",
   "source": [
    "Training a small convnet from the scratch. "
   ],
   "metadata": {
    "collapsed": false
   },
   "id": "e48a479de3091b32"
  },
  {
   "cell_type": "markdown",
   "source": [
    "Making a dataset for convnet. "
   ],
   "metadata": {
    "collapsed": false
   },
   "id": "505d6a774a7ed23e"
  },
  {
   "cell_type": "code",
   "outputs": [],
   "source": [
    "import tensorflow as tf \n",
    "from tensorflow import keras\n",
    "from keras import Sequential\n",
    "from keras.layers import Dense, Conv2D, MaxPooling2D, Dropout, Flatten, BatchNormalization"
   ],
   "metadata": {
    "collapsed": false,
    "ExecuteTime": {
     "end_time": "2024-10-03T09:47:12.350313Z",
     "start_time": "2024-10-03T09:47:12.331542Z"
    }
   },
   "id": "1ee9999eb620905a",
   "execution_count": 4
  },
  {
   "cell_type": "code",
   "outputs": [
    {
     "name": "stdout",
     "output_type": "stream",
     "text": [
      "Found 20000 files belonging to 2 classes.\n",
      "Found 5000 files belonging to 2 classes.\n"
     ]
    }
   ],
   "source": [
    "# generator\n",
    "train_gen = keras.utils.image_dataset_from_directory(directory='data/train', labels='inferred', label_mode='int', image_size=(150, 150), batch_size= 32)\n",
    "\n",
    "test_gen = keras.utils.image_dataset_from_directory(directory='data/test', labels='inferred', label_mode='int', image_size=(150, 150), batch_size= 32)"
   ],
   "metadata": {
    "collapsed": true,
    "ExecuteTime": {
     "end_time": "2024-10-03T09:23:32.659104Z",
     "start_time": "2024-10-03T09:23:31.357870Z"
    }
   },
   "id": "initial_id",
   "execution_count": 3
  },
  {
   "cell_type": "code",
   "outputs": [],
   "source": [
    "# Normalization of the dataset\n",
    "def normalize_image(image, label):\n",
    "    image = tf.cast(image/255., tf.float32)\n",
    "    return image, label\n",
    "\n",
    "train_gen = train_gen.map(normalize_image)\n",
    "test_gen = test_gen.map(normalize_image)"
   ],
   "metadata": {
    "collapsed": false,
    "ExecuteTime": {
     "end_time": "2024-10-03T09:52:39.556204Z",
     "start_time": "2024-10-03T09:52:39.341874Z"
    }
   },
   "id": "8c0854c2ffde4900",
   "execution_count": 5
  },
  {
   "cell_type": "markdown",
   "source": [
    "Creating a CNN."
   ],
   "metadata": {
    "collapsed": false
   },
   "id": "e2526b13799ed74e"
  },
  {
   "cell_type": "code",
   "outputs": [],
   "source": [
    "model1 = Sequential()\n",
    "\n",
    "model1.add(Conv2D(32, kernel_size = (3, 3), padding='valid', activation='relu', input_shape=(150, 150, 3)))\n",
    "model1.add(MaxPooling2D(pool_size=(2,2), strides=2, padding='valid'))\n",
    "\n",
    "model1.add(Conv2D(32, kernel_size = (3, 3), padding='valid', activation='relu'))\n",
    "model1.add(MaxPooling2D(pool_size=(2,2), strides=2, padding='valid'))\n",
    "\n",
    "model1.add(Conv2D(32, kernel_size = (3, 3), padding='valid', activation='relu'))\n",
    "model1.add(MaxPooling2D(pool_size=(2,2), strides=2, padding='valid'))\n",
    "\n",
    "model1.add(Flatten())\n",
    "\n",
    "model1.add(Dense(128, activation='relu'))\n",
    "model1.add(Dense(64, activation='relu'))\n",
    "model1.add(Dense(1, activation='sigmoid'))"
   ],
   "metadata": {
    "collapsed": false,
    "ExecuteTime": {
     "end_time": "2024-10-03T09:53:37.410518Z",
     "start_time": "2024-10-03T09:53:37.285316Z"
    }
   },
   "id": "433985a1b78c1ced",
   "execution_count": 8
  },
  {
   "cell_type": "code",
   "outputs": [
    {
     "name": "stdout",
     "output_type": "stream",
     "text": [
      "Model: \"sequential_2\"\n",
      "_________________________________________________________________\n",
      " Layer (type)                Output Shape              Param #   \n",
      "=================================================================\n",
      " conv2d_1 (Conv2D)           (None, 148, 148, 32)      896       \n",
      "                                                                 \n",
      " max_pooling2d (MaxPooling2  (None, 74, 74, 32)        0         \n",
      " D)                                                              \n",
      "                                                                 \n",
      " conv2d_2 (Conv2D)           (None, 72, 72, 32)        9248      \n",
      "                                                                 \n",
      " max_pooling2d_1 (MaxPoolin  (None, 36, 36, 32)        0         \n",
      " g2D)                                                            \n",
      "                                                                 \n",
      " conv2d_3 (Conv2D)           (None, 34, 34, 32)        9248      \n",
      "                                                                 \n",
      " max_pooling2d_2 (MaxPoolin  (None, 17, 17, 32)        0         \n",
      " g2D)                                                            \n",
      "                                                                 \n",
      " flatten (Flatten)           (None, 9248)              0         \n",
      "                                                                 \n",
      " dense (Dense)               (None, 128)               1183872   \n",
      "                                                                 \n",
      " dense_1 (Dense)             (None, 64)                8256      \n",
      "                                                                 \n",
      " dense_2 (Dense)             (None, 1)                 65        \n",
      "                                                                 \n",
      "=================================================================\n",
      "Total params: 1211585 (4.62 MB)\n",
      "Trainable params: 1211585 (4.62 MB)\n",
      "Non-trainable params: 0 (0.00 Byte)\n",
      "_________________________________________________________________\n"
     ]
    }
   ],
   "source": [
    "model1.summary()"
   ],
   "metadata": {
    "collapsed": false,
    "ExecuteTime": {
     "end_time": "2024-10-03T09:53:46.671855Z",
     "start_time": "2024-10-03T09:53:46.635718Z"
    }
   },
   "id": "8cd63798a25f9f58",
   "execution_count": 9
  },
  {
   "cell_type": "code",
   "outputs": [],
   "source": [
    "model1.compile(loss='binary_crossentropy', optimizer='adam', metrics=['accuracy'])"
   ],
   "metadata": {
    "collapsed": false,
    "ExecuteTime": {
     "end_time": "2024-10-03T09:55:26.621830Z",
     "start_time": "2024-10-03T09:55:26.571528Z"
    }
   },
   "id": "98067c301ea5bb81",
   "execution_count": 10
  },
  {
   "cell_type": "code",
   "outputs": [
    {
     "name": "stdout",
     "output_type": "stream",
     "text": [
      "Epoch 1/10\n",
      "625/625 [==============================] - 111s 176ms/step - loss: 0.6192 - accuracy: 0.6465 - val_loss: 0.5388 - val_accuracy: 0.7298\n",
      "Epoch 2/10\n",
      "625/625 [==============================] - 119s 190ms/step - loss: 0.4824 - accuracy: 0.7670 - val_loss: 0.4776 - val_accuracy: 0.7826\n",
      "Epoch 3/10\n",
      "625/625 [==============================] - 119s 190ms/step - loss: 0.4069 - accuracy: 0.8138 - val_loss: 0.4224 - val_accuracy: 0.8116\n",
      "Epoch 4/10\n",
      "625/625 [==============================] - 121s 193ms/step - loss: 0.3448 - accuracy: 0.8478 - val_loss: 0.4153 - val_accuracy: 0.8134\n",
      "Epoch 5/10\n",
      "625/625 [==============================] - 128s 205ms/step - loss: 0.2768 - accuracy: 0.8846 - val_loss: 0.4418 - val_accuracy: 0.8148\n",
      "Epoch 6/10\n",
      "625/625 [==============================] - 115s 184ms/step - loss: 0.2067 - accuracy: 0.9125 - val_loss: 0.4861 - val_accuracy: 0.8184\n",
      "Epoch 7/10\n",
      "625/625 [==============================] - 117s 187ms/step - loss: 0.1414 - accuracy: 0.9437 - val_loss: 0.7111 - val_accuracy: 0.8016\n",
      "Epoch 8/10\n",
      "625/625 [==============================] - 128s 204ms/step - loss: 0.1029 - accuracy: 0.9596 - val_loss: 0.7280 - val_accuracy: 0.7996\n",
      "Epoch 9/10\n",
      "625/625 [==============================] - 125s 199ms/step - loss: 0.0805 - accuracy: 0.9704 - val_loss: 0.8205 - val_accuracy: 0.7982\n",
      "Epoch 10/10\n",
      "625/625 [==============================] - 120s 192ms/step - loss: 0.0632 - accuracy: 0.9773 - val_loss: 0.9234 - val_accuracy: 0.8106\n"
     ]
    }
   ],
   "source": [
    "history = model1.fit(train_gen, epochs=10, validation_data=test_gen)"
   ],
   "metadata": {
    "collapsed": false,
    "ExecuteTime": {
     "end_time": "2024-10-03T10:16:57.091065Z",
     "start_time": "2024-10-03T09:56:53.140291Z"
    }
   },
   "id": "d6132d82d1dd79b5",
   "execution_count": 11
  },
  {
   "cell_type": "code",
   "outputs": [
    {
     "data": {
      "text/plain": "<Figure size 640x480 with 1 Axes>",
      "image/png": "[encoded data removed]"
     },
     "metadata": {},
     "output_type": "display_data"
    }
   ],
   "source": [
    "import matplotlib.pyplot as plt\n",
    "\n",
    "plt.plot(history.history['accuracy'], label='train', color='r')\n",
    "plt.plot(history.history['val_accuracy'], label='test', color='b')\n",
    "plt.title('model accuracy')\n",
    "plt.ylabel('accuracy')\n",
    "plt.xlabel('epoch')\n",
    "plt.legend()\n",
    "plt.show()"
   ],
   "metadata": {
    "collapsed": false,
    "ExecuteTime": {
     "end_time": "2024-10-03T10:16:57.809273Z",
     "start_time": "2024-10-03T10:16:57.098341Z"
    }
   },
   "id": "bc829517f3d610e3",
   "execution_count": 12
  },
  {
   "cell_type": "code",
   "outputs": [
    {
     "data": {
      "text/plain": "<Figure size 640x480 with 1 Axes>",
      "image/png": "[encoded data removed]"
     },
     "metadata": {},
     "output_type": "display_data"
    }
   ],
   "source": [
    "plt.plot(history.history['loss'], label='train', color='r')\n",
    "plt.plot(history.history['val_loss'], label='test', color='b')\n",
    "plt.title('model loss')\n",
    "plt.ylabel('loss')\n",
    "plt.xlabel('epoch')\n",
    "plt.legend()\n",
    "plt.show()"
   ],
   "metadata": {
    "collapsed": false,
    "ExecuteTime": {
     "end_time": "2024-10-03T10:17:05.516168Z",
     "start_time": "2024-10-03T10:17:05.420370Z"
    }
   },
   "id": "152676797a1e87c5",
   "execution_count": 13
  },
  {
   "cell_type": "markdown",
   "source": [
    "Here we can clearly see the Gap between the training and validation is keep increasing. This is the clear example of Overfitting. \n",
    "To deal with overfitting we can do: \n",
    "* More train Data. \n",
    "* Data augmentation --> Creating more data\n",
    "* L1/L2 regularize\n",
    "* Dropout\n",
    "* Reduce Complexity\n",
    "* Batch norm"
   ],
   "metadata": {
    "collapsed": false
   },
   "id": "7b1e7d0e9eb99c3c"
  },
  {
   "cell_type": "markdown",
   "source": [
    "Here I am using Dropout and batch norm technique to reduce the overfitting. "
   ],
   "metadata": {
    "collapsed": false
   },
   "id": "629fcbebbb40c141"
  }
 ],
 "metadata": {
  "kernelspec": {
   "display_name": "Python 3",
   "language": "python",
   "name": "python3"
  },
  "language_info": {
   "codemirror_mode": {
    "name": "ipython",
    "version": 2
   },
   "file_extension": ".py",
   "mimetype": "text/x-python",
   "name": "python",
   "nbconvert_exporter": "python",
   "pygments_lexer": "ipython2",
   "version": "2.7.6"
  }
 },
 "nbformat": 4,
 "nbformat_minor": 5
}
