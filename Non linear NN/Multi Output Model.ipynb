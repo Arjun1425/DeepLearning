{
 "cells": [
  {
   "cell_type": "markdown",
   "source": [
    "## Here we are making multi-output model using Keras libraries. "
   ],
   "metadata": {
    "collapsed": false
   },
   "id": "3df28a597264f481"
  },
  {
   "cell_type": "code",
   "execution_count": 7,
   "id": "initial_id",
   "metadata": {
    "collapsed": true,
    "ExecuteTime": {
     "end_time": "2024-10-05T20:11:36.804318Z",
     "start_time": "2024-10-05T20:11:36.798080Z"
    }
   },
   "outputs": [],
   "source": [
    "from keras.models import Model\n",
    "from keras.layers import *"
   ]
  },
  {
   "cell_type": "code",
   "outputs": [],
   "source": [
    "x = Input(shape=(3,))      # Here x is the input having 3 columns. "
   ],
   "metadata": {
    "collapsed": false,
    "ExecuteTime": {
     "end_time": "2024-10-05T20:11:04.188547Z",
     "start_time": "2024-10-05T20:11:04.181996Z"
    }
   },
   "id": "738ffe02bb3d5f6e",
   "execution_count": 2
  },
  {
   "cell_type": "code",
   "outputs": [],
   "source": [
    "hid1 = Dense(128, activation='relu')(x) # Here this is the first dense layer having input 'x'.\n",
    "hid2 = Dense(64, activation='relu')(hid1) # This is second dense layer whose input is output of the first dense layer. \n",
    "\n",
    "# Let start doing branching where one branch is for regression and another one is for the classification. \n",
    "out1 = Dense(1, activation='linear')(hid2)                # Regression\n",
    "out2 = Dense(1, activation='sigmoid')(hid2)               # Classification"
   ],
   "metadata": {
    "collapsed": false,
    "ExecuteTime": {
     "end_time": "2024-10-05T20:11:04.226028Z",
     "start_time": "2024-10-05T20:11:04.189375Z"
    }
   },
   "id": "ec55e81815976057",
   "execution_count": 3
  },
  {
   "cell_type": "markdown",
   "source": [],
   "metadata": {
    "collapsed": false
   },
   "id": "d43a173b3acaece8"
  },
  {
   "cell_type": "code",
   "outputs": [],
   "source": [
    "model = Model(inputs=x, outputs=(out1, out2))   # Output of the model is in tuple. (regression,classification)"
   ],
   "metadata": {
    "collapsed": false,
    "ExecuteTime": {
     "end_time": "2024-10-05T20:11:04.233384Z",
     "start_time": "2024-10-05T20:11:04.227391Z"
    }
   },
   "id": "a5ada6728392d0f5",
   "execution_count": 4
  },
  {
   "cell_type": "code",
   "outputs": [
    {
     "name": "stdout",
     "output_type": "stream",
     "text": [
      "Model: \"model\"\n",
      "__________________________________________________________________________________________________\n",
      " Layer (type)                Output Shape                 Param #   Connected to                  \n",
      "==================================================================================================\n",
      " input_1 (InputLayer)        [(None, 3)]                  0         []                            \n",
      "                                                                                                  \n",
      " dense (Dense)               (None, 128)                  512       ['input_1[0][0]']             \n",
      "                                                                                                  \n",
      " dense_1 (Dense)             (None, 64)                   8256      ['dense[0][0]']               \n",
      "                                                                                                  \n",
      " dense_2 (Dense)             (None, 1)                    65        ['dense_1[0][0]']             \n",
      "                                                                                                  \n",
      " dense_3 (Dense)             (None, 1)                    65        ['dense_1[0][0]']             \n",
      "                                                                                                  \n",
      "==================================================================================================\n",
      "Total params: 8898 (34.76 KB)\n",
      "Trainable params: 8898 (34.76 KB)\n",
      "Non-trainable params: 0 (0.00 Byte)\n",
      "__________________________________________________________________________________________________\n"
     ]
    }
   ],
   "source": [
    "model.summary()"
   ],
   "metadata": {
    "collapsed": false,
    "ExecuteTime": {
     "end_time": "2024-10-05T20:11:04.247672Z",
     "start_time": "2024-10-05T20:11:04.234122Z"
    }
   },
   "id": "199dab7beeb26eae",
   "execution_count": 5
  }
 ],
 "metadata": {
  "kernelspec": {
   "display_name": "Python 3",
   "language": "python",
   "name": "python3"
  },
  "language_info": {
   "codemirror_mode": {
    "name": "ipython",
    "version": 2
   },
   "file_extension": ".py",
   "mimetype": "text/x-python",
   "name": "python",
   "nbconvert_exporter": "python",
   "pygments_lexer": "ipython2",
   "version": "2.7.6"
  }
 },
 "nbformat": 4,
 "nbformat_minor": 5
}
