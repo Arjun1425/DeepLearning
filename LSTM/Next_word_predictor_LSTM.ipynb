{
 "cells": [
  {
   "cell_type": "code",
   "execution_count": 1,
   "id": "initial_id",
   "metadata": {
    "collapsed": true,
    "ExecuteTime": {
     "end_time": "2024-12-21T17:50:00.712865Z",
     "start_time": "2024-12-21T17:50:00.587558Z"
    }
   },
   "outputs": [],
   "source": [
    "import fitz\n",
    "import re \n",
    "\n",
    "def extract_sentences_from_pdf(pdf_file):\n",
    "    doc = fitz.open(pdf_file)\n",
    "    text = \"\"\n",
    "    \n",
    "    for page in doc[5:]:\n",
    "        text += page.get_text()\n",
    "        \n",
    "    #Cleaning the text\n",
    "    cleaned_text = re.sub(r\"[^a-zA-Z\\s.]\", \"\", text)\n",
    "    # Remove extra spaces, including those before periods\n",
    "    cleaned_text = re.sub(r'\\s+', ' ', cleaned_text)\n",
    "    cleaned_text = re.sub(r'\\s\\.', '.', cleaned_text)\n",
    "    \n",
    "    doc.close()\n",
    "    return cleaned_text"
   ]
  },
  {
   "cell_type": "code",
   "outputs": [],
   "source": [
    "sentences = extract_sentences_from_pdf(\"./Arjun_Thesis_Proposal.pdf\")"
   ],
   "metadata": {
    "collapsed": false,
    "ExecuteTime": {
     "end_time": "2024-12-21T17:50:00.807001Z",
     "start_time": "2024-12-21T17:50:00.714765Z"
    }
   },
   "id": "ecc763fb9df99255",
   "execution_count": 2
  },
  {
   "cell_type": "code",
   "outputs": [
    {
     "name": "stdout",
     "output_type": "stream",
     "text": [
      " CHAPTER INTRODUCTION AND BACKGROUND. Biomolecular condensates Biomolecular condensates found in biology commonly function as membraneless organelles that form through liquidliquid phase separation LLPS a process where proteins and nucleic acids as semble into dynamic highlyconcentrated and spatiallysegregated dropletlike structures within cells Figure.. Figure. A cartoon showing a cell with different compartments condensates that organize biomolecules involved in similar functions. The primary \n"
     ]
    }
   ],
   "source": [
    "print(sentences[:500])"
   ],
   "metadata": {
    "collapsed": false,
    "ExecuteTime": {
     "end_time": "2024-12-21T17:50:00.811319Z",
     "start_time": "2024-12-21T17:50:00.807666Z"
    }
   },
   "id": "3ef1587300b0587c",
   "execution_count": 3
  },
  {
   "cell_type": "code",
   "outputs": [],
   "source": [
    "import tensorflow as tf \n",
    "from tensorflow.keras.preprocessing.text import Tokenizer"
   ],
   "metadata": {
    "collapsed": false,
    "ExecuteTime": {
     "end_time": "2024-12-21T17:50:13.423807Z",
     "start_time": "2024-12-21T17:50:13.416571Z"
    }
   },
   "id": "9fa714913be2b376",
   "execution_count": 12
  },
  {
   "cell_type": "code",
   "outputs": [],
   "source": [
    "tokenizer = Tokenizer()"
   ],
   "metadata": {
    "collapsed": false,
    "ExecuteTime": {
     "end_time": "2024-12-21T17:50:05.818137Z",
     "start_time": "2024-12-21T17:50:05.816343Z"
    }
   },
   "id": "29932acc1c541d26",
   "execution_count": 5
  },
  {
   "cell_type": "code",
   "outputs": [
    {
     "name": "stdout",
     "output_type": "stream",
     "text": [
      "Total number of tokens/unique words: 1930\n"
     ]
    }
   ],
   "source": [
    "# Giving number to every unique word in the data. \n",
    "tokenizer.fit_on_texts([sentences])\n",
    "print(f\"Total number of tokens/unique words: {len(tokenizer.word_index)}\")"
   ],
   "metadata": {
    "collapsed": false,
    "ExecuteTime": {
     "end_time": "2024-12-21T17:50:05.826220Z",
     "start_time": "2024-12-21T17:50:05.819098Z"
    }
   },
   "id": "91f4db331afc4ff0",
   "execution_count": 6
  },
  {
   "cell_type": "code",
   "outputs": [
    {
     "name": "stdout",
     "output_type": "stream",
     "text": [
      "[('the', 1), ('and', 2), ('of', 3), ('to', 4), ('a', 5), ('in', 6), ('phase', 7), ('for', 8), ('we', 9), ('sequence', 10)]\n"
     ]
    }
   ],
   "source": [
    "lis = list(tokenizer.word_index.items())[:10]\n",
    "print(lis)"
   ],
   "metadata": {
    "collapsed": false,
    "ExecuteTime": {
     "end_time": "2024-12-21T17:50:05.830151Z",
     "start_time": "2024-12-21T17:50:05.827346Z"
    }
   },
   "id": "639b78a0c2f93e55",
   "execution_count": 7
  },
  {
   "cell_type": "code",
   "outputs": [],
   "source": [
    "# Break data into sentences. \n",
    "# After that make input sequence dataset. \n",
    "input_sequences = []\n",
    "for sentence in sentences.split('.'):\n",
    "    tokenized_sentence = tokenizer.texts_to_sequences([sentence])[0]\n",
    "    \n",
    "    for i in range(1, len(tokenized_sentence)):\n",
    "        input_sequences.append(tokenized_sentence[:i + 1])"
   ],
   "metadata": {
    "collapsed": false,
    "ExecuteTime": {
     "end_time": "2024-12-21T17:50:05.841841Z",
     "start_time": "2024-12-21T17:50:05.831344Z"
    }
   },
   "id": "201804cc0588193a",
   "execution_count": 8
  },
  {
   "cell_type": "markdown",
   "source": [
    "print(tokenizer.texts_to_sequences([sentence])[0])\n",
    "--> \n",
    "[271, 878, 2, 879]\n",
    "[36, 15, 36, 15, 407, 6, 163, 562, 79, 13, 272, 273, 21, 118, 332, 226, 7, 14, 164, 5, 165, 95, 17, 2, 563, 109, 13, 880, 26, 564, 881, 2, 882, 883, 227, 59, 408, 22]\n",
    "[]\n",
    "[22]\n",
    "[5, 884, 409, 5, 190, 16, 145, 565, 15, 21, 410, 228, 566, 6, 274, 333]\n",
    "[1, 885, 334, 275, 43, 101, 411, 335, 886, 887, 276, 91, 13, 888, 567, 412, 568, 569, 889, 2, 890, 19, 32, 891, 892, 2, 893, 894, 895, 19, 32, 17, 2, 570, 229, 336, 896, 897, 62, 44, 166, 277]\n",
    "[27, 19, 278, 4, 1, 8, 898, 3, 571, 572, 45, 573, 22]............."
   ],
   "metadata": {
    "collapsed": false
   },
   "id": "a95454a7439eff32"
  },
  {
   "cell_type": "code",
   "outputs": [
    {
     "name": "stdout",
     "output_type": "stream",
     "text": [
      "Max length of the sequence is 53\n",
      "[[   0    0    0 ...    0  271  878]\n",
      " [   0    0    0 ...  271  878    2]\n",
      " [   0    0    0 ...  878    2  879]\n",
      " ...\n",
      " [   0    0    0 ...   43 1930  129]\n",
      " [   0    0    0 ... 1930  129  330]\n",
      " [   0    0    0 ...  129  330   47]]\n"
     ]
    }
   ],
   "source": [
    "# Using the zero padding to make every sequence length same. \n",
    "max_length = max([len(x) for x in input_sequences])\n",
    "print(f\"Max length of the sequence is {max_length}\")\n",
    "\n",
    "from tensorflow.keras.preprocessing.sequence import pad_sequences\n",
    "padded_input_sequences = pad_sequences(input_sequences, maxlen=max_length, padding='pre')\n",
    "print(padded_input_sequences)"
   ],
   "metadata": {
    "collapsed": false,
    "ExecuteTime": {
     "end_time": "2024-12-21T17:50:05.857401Z",
     "start_time": "2024-12-21T17:50:05.843133Z"
    }
   },
   "id": "6c8d044f9fed6a73",
   "execution_count": 9
  },
  {
   "cell_type": "code",
   "outputs": [
    {
     "name": "stdout",
     "output_type": "stream",
     "text": [
      "(7832, 52)\n",
      "(7832,)\n"
     ]
    }
   ],
   "source": [
    "X = padded_input_sequences[ : , : -1]\n",
    "Y = padded_input_sequences[ : , -1]\n",
    "print(X.shape)\n",
    "print(Y.shape)"
   ],
   "metadata": {
    "collapsed": false,
    "ExecuteTime": {
     "end_time": "2024-12-21T17:50:05.862345Z",
     "start_time": "2024-12-21T17:50:05.859692Z"
    }
   },
   "id": "829d47951de96afc",
   "execution_count": 10
  },
  {
   "cell_type": "code",
   "outputs": [
    {
     "name": "stdout",
     "output_type": "stream",
     "text": [
      "(7832, 1931)\n",
      "[[0. 0. 0. ... 0. 0. 0.]\n",
      " [0. 0. 1. ... 0. 0. 0.]\n",
      " [0. 0. 0. ... 0. 0. 0.]]\n"
     ]
    }
   ],
   "source": [
    "# To convert output into categorical data. \n",
    "from tensorflow.keras.utils import to_categorical\n",
    "\n",
    "Y = to_categorical(Y, num_classes= len(tokenizer.word_index) + 1)     # Added one because one hot encoding start indexing with zero and tokenizer start with one.\n",
    "print(Y.shape)\n",
    "print(Y[:3])"
   ],
   "metadata": {
    "collapsed": false,
    "ExecuteTime": {
     "end_time": "2024-12-21T17:50:05.877221Z",
     "start_time": "2024-12-21T17:50:05.864044Z"
    }
   },
   "id": "b3c449262bd76dd9",
   "execution_count": 11
  },
  {
   "cell_type": "markdown",
   "source": [
    "NN Architecture. \n",
    "\n",
    "First layer: Embedding layer. \n",
    "Second layer: LSTM. \n",
    "Third layer: Dense with softmax. "
   ],
   "metadata": {
    "collapsed": false
   },
   "id": "c8dc69baf3f55971"
  },
  {
   "cell_type": "code",
   "outputs": [],
   "source": [
    "from tensorflow.keras.models import Sequential\n",
    "from tensorflow.keras.layers import Embedding, LSTM, Dense"
   ],
   "metadata": {
    "collapsed": false,
    "ExecuteTime": {
     "end_time": "2024-12-21T18:07:32.856560Z",
     "start_time": "2024-12-21T18:07:32.847527Z"
    }
   },
   "id": "c5c00b10d86c21e1",
   "execution_count": 14
  },
  {
   "cell_type": "code",
   "outputs": [
    {
     "name": "stdout",
     "output_type": "stream",
     "text": [
      "input_len = 52, unique_words = 1931, embedding_dim = 100\n"
     ]
    }
   ],
   "source": [
    "unique_words = len(tokenizer.word_index) + 1\n",
    "embedding_dim = 100\n",
    "input_len = X.shape[1]\n",
    "print(f'{input_len = }, {unique_words = }, {embedding_dim = }')"
   ],
   "metadata": {
    "collapsed": false,
    "ExecuteTime": {
     "end_time": "2024-12-21T18:14:12.847755Z",
     "start_time": "2024-12-21T18:14:12.840067Z"
    }
   },
   "id": "c25d75b8b80eaa20",
   "execution_count": 18
  },
  {
   "cell_type": "code",
   "outputs": [],
   "source": [
    "model = Sequential()\n",
    "model.add(Embedding(unique_words, embedding_dim, input_length= input_len))\n",
    "model.add(LSTM(150))                  # Total nodes on every gates.\n",
    "model.add(Dense(unique_words, activation='softmax'))"
   ],
   "metadata": {
    "collapsed": false,
    "ExecuteTime": {
     "end_time": "2024-12-21T18:17:25.807360Z",
     "start_time": "2024-12-21T18:17:25.362294Z"
    }
   },
   "id": "7aaa03bc7ba65dfa",
   "execution_count": 19
  },
  {
   "cell_type": "code",
   "outputs": [],
   "source": [
    "model.compile(loss='categorical_crossentropy', optimizer='adam', metrics=['accuracy'])"
   ],
   "metadata": {
    "collapsed": false,
    "ExecuteTime": {
     "end_time": "2024-12-21T19:35:29.580486Z",
     "start_time": "2024-12-21T19:35:29.492381Z"
    }
   },
   "id": "32d01347ec287221",
   "execution_count": 20
  },
  {
   "cell_type": "code",
   "outputs": [
    {
     "name": "stdout",
     "output_type": "stream",
     "text": [
      "Model: \"sequential\"\n",
      "_________________________________________________________________\n",
      " Layer (type)                Output Shape              Param #   \n",
      "=================================================================\n",
      " embedding (Embedding)       (None, 52, 100)           193100    \n",
      "                                                                 \n",
      " lstm (LSTM)                 (None, 150)               150600    \n",
      "                                                                 \n",
      " dense (Dense)               (None, 1931)              291581    \n",
      "                                                                 \n",
      "=================================================================\n",
      "Total params: 635281 (2.42 MB)\n",
      "Trainable params: 635281 (2.42 MB)\n",
      "Non-trainable params: 0 (0.00 Byte)\n",
      "_________________________________________________________________\n"
     ]
    }
   ],
   "source": [
    "model.summary()"
   ],
   "metadata": {
    "collapsed": false,
    "ExecuteTime": {
     "end_time": "2024-12-21T19:35:36.838683Z",
     "start_time": "2024-12-21T19:35:36.824516Z"
    }
   },
   "id": "de01b2733a1e365e",
   "execution_count": 21
  },
  {
   "cell_type": "code",
   "outputs": [
    {
     "name": "stdout",
     "output_type": "stream",
     "text": [
      "Epoch 1/100\n",
      "245/245 [==============================] - 9s 35ms/step - loss: 6.6412 - accuracy: 0.0591\n",
      "Epoch 2/100\n",
      "245/245 [==============================] - 8s 33ms/step - loss: 6.1905 - accuracy: 0.0618\n",
      "Epoch 3/100\n",
      "245/245 [==============================] - 8s 33ms/step - loss: 6.0561 - accuracy: 0.0696\n",
      "Epoch 4/100\n",
      "245/245 [==============================] - 9s 36ms/step - loss: 5.8458 - accuracy: 0.0875\n",
      "Epoch 5/100\n",
      "245/245 [==============================] - 9s 38ms/step - loss: 5.5426 - accuracy: 0.1180\n",
      "Epoch 6/100\n",
      "245/245 [==============================] - 9s 37ms/step - loss: 5.1868 - accuracy: 0.1466\n",
      "Epoch 7/100\n",
      "245/245 [==============================] - 9s 37ms/step - loss: 4.8412 - accuracy: 0.1739\n",
      "Epoch 8/100\n",
      "245/245 [==============================] - 9s 38ms/step - loss: 4.5168 - accuracy: 0.2024\n",
      "Epoch 9/100\n",
      "245/245 [==============================] - 9s 37ms/step - loss: 4.2202 - accuracy: 0.2265\n",
      "Epoch 10/100\n",
      "245/245 [==============================] - 9s 37ms/step - loss: 3.9455 - accuracy: 0.2546\n",
      "Epoch 11/100\n",
      "245/245 [==============================] - 9s 37ms/step - loss: 3.6875 - accuracy: 0.2773\n",
      "Epoch 12/100\n",
      "245/245 [==============================] - 9s 37ms/step - loss: 3.4384 - accuracy: 0.3085\n",
      "Epoch 13/100\n",
      "245/245 [==============================] - 8s 35ms/step - loss: 3.2010 - accuracy: 0.3505\n",
      "Epoch 14/100\n",
      "245/245 [==============================] - 9s 37ms/step - loss: 2.9685 - accuracy: 0.3921\n",
      "Epoch 15/100\n",
      "245/245 [==============================] - 8s 34ms/step - loss: 2.7440 - accuracy: 0.4387\n",
      "Epoch 16/100\n",
      "245/245 [==============================] - 8s 33ms/step - loss: 2.5357 - accuracy: 0.4849\n",
      "Epoch 17/100\n",
      "245/245 [==============================] - 8s 32ms/step - loss: 2.3301 - accuracy: 0.5296\n",
      "Epoch 18/100\n",
      "245/245 [==============================] - 8s 32ms/step - loss: 2.1334 - accuracy: 0.5698\n",
      "Epoch 19/100\n",
      "245/245 [==============================] - 8s 32ms/step - loss: 1.9520 - accuracy: 0.6125\n",
      "Epoch 20/100\n",
      "245/245 [==============================] - 8s 32ms/step - loss: 1.7827 - accuracy: 0.6491\n",
      "Epoch 21/100\n",
      "245/245 [==============================] - 8s 33ms/step - loss: 1.6273 - accuracy: 0.6841\n",
      "Epoch 22/100\n",
      "245/245 [==============================] - 8s 35ms/step - loss: 1.4873 - accuracy: 0.7160\n",
      "Epoch 23/100\n",
      "245/245 [==============================] - 9s 36ms/step - loss: 1.3536 - accuracy: 0.7439\n",
      "Epoch 24/100\n",
      "245/245 [==============================] - 9s 38ms/step - loss: 1.2376 - accuracy: 0.7681\n",
      "Epoch 25/100\n",
      "245/245 [==============================] - 8s 35ms/step - loss: 1.1291 - accuracy: 0.7903\n",
      "Epoch 26/100\n",
      "245/245 [==============================] - 9s 38ms/step - loss: 1.0300 - accuracy: 0.8119\n",
      "Epoch 27/100\n",
      "245/245 [==============================] - 9s 35ms/step - loss: 0.9391 - accuracy: 0.8330\n",
      "Epoch 28/100\n",
      "245/245 [==============================] - 9s 38ms/step - loss: 0.8566 - accuracy: 0.8523\n",
      "Epoch 29/100\n",
      "245/245 [==============================] - 9s 37ms/step - loss: 0.7825 - accuracy: 0.8682\n",
      "Epoch 30/100\n",
      "245/245 [==============================] - 9s 37ms/step - loss: 0.7142 - accuracy: 0.8814\n",
      "Epoch 31/100\n",
      "245/245 [==============================] - 11s 45ms/step - loss: 0.6533 - accuracy: 0.8926\n",
      "Epoch 32/100\n",
      "245/245 [==============================] - 9s 37ms/step - loss: 0.5940 - accuracy: 0.9027\n",
      "Epoch 33/100\n",
      "245/245 [==============================] - 9s 36ms/step - loss: 0.5458 - accuracy: 0.9150\n",
      "Epoch 34/100\n",
      "245/245 [==============================] - 10s 39ms/step - loss: 0.4988 - accuracy: 0.9217\n",
      "Epoch 35/100\n",
      "245/245 [==============================] - 9s 37ms/step - loss: 0.4569 - accuracy: 0.9314\n",
      "Epoch 36/100\n",
      "245/245 [==============================] - 9s 38ms/step - loss: 0.4188 - accuracy: 0.9365\n",
      "Epoch 37/100\n",
      "245/245 [==============================] - 10s 39ms/step - loss: 0.3846 - accuracy: 0.9427\n",
      "Epoch 38/100\n",
      "245/245 [==============================] - 11s 46ms/step - loss: 0.3546 - accuracy: 0.9464\n",
      "Epoch 39/100\n",
      "245/245 [==============================] - 9s 37ms/step - loss: 0.3285 - accuracy: 0.9485\n",
      "Epoch 40/100\n",
      "245/245 [==============================] - 9s 35ms/step - loss: 0.3041 - accuracy: 0.9510\n",
      "Epoch 41/100\n",
      "245/245 [==============================] - 9s 37ms/step - loss: 0.2808 - accuracy: 0.9557\n",
      "Epoch 42/100\n",
      "245/245 [==============================] - 9s 38ms/step - loss: 0.2615 - accuracy: 0.9548\n",
      "Epoch 43/100\n",
      "245/245 [==============================] - 9s 37ms/step - loss: 0.2460 - accuracy: 0.9562\n",
      "Epoch 44/100\n",
      "245/245 [==============================] - 9s 37ms/step - loss: 0.2284 - accuracy: 0.9580\n",
      "Epoch 45/100\n",
      "245/245 [==============================] - 10s 41ms/step - loss: 0.2154 - accuracy: 0.9588\n",
      "Epoch 46/100\n",
      "245/245 [==============================] - 9s 37ms/step - loss: 0.2028 - accuracy: 0.9604\n",
      "Epoch 47/100\n",
      "245/245 [==============================] - 9s 38ms/step - loss: 0.1920 - accuracy: 0.9593\n",
      "Epoch 48/100\n",
      "245/245 [==============================] - 9s 36ms/step - loss: 0.1834 - accuracy: 0.9600\n",
      "Epoch 49/100\n",
      "245/245 [==============================] - 9s 37ms/step - loss: 0.1752 - accuracy: 0.9605\n",
      "Epoch 50/100\n",
      "245/245 [==============================] - 9s 37ms/step - loss: 0.1690 - accuracy: 0.9604\n",
      "Epoch 51/100\n",
      "245/245 [==============================] - 10s 40ms/step - loss: 0.1609 - accuracy: 0.9600\n",
      "Epoch 52/100\n",
      "245/245 [==============================] - 10s 39ms/step - loss: 0.1543 - accuracy: 0.9616\n",
      "Epoch 53/100\n",
      "245/245 [==============================] - 9s 36ms/step - loss: 0.1500 - accuracy: 0.9604\n",
      "Epoch 54/100\n",
      "245/245 [==============================] - 9s 38ms/step - loss: 0.1461 - accuracy: 0.9613\n",
      "Epoch 55/100\n",
      "245/245 [==============================] - 10s 41ms/step - loss: 0.1414 - accuracy: 0.9609\n",
      "Epoch 56/100\n",
      "245/245 [==============================] - 10s 39ms/step - loss: 0.1395 - accuracy: 0.9616\n",
      "Epoch 57/100\n",
      "245/245 [==============================] - 10s 39ms/step - loss: 0.1344 - accuracy: 0.9611\n",
      "Epoch 58/100\n",
      "245/245 [==============================] - 10s 40ms/step - loss: 0.1308 - accuracy: 0.9611\n",
      "Epoch 59/100\n",
      "245/245 [==============================] - 9s 39ms/step - loss: 0.1287 - accuracy: 0.9616\n",
      "Epoch 60/100\n",
      "245/245 [==============================] - 9s 38ms/step - loss: 0.1266 - accuracy: 0.9614\n",
      "Epoch 61/100\n",
      "245/245 [==============================] - 9s 38ms/step - loss: 0.1257 - accuracy: 0.9609\n",
      "Epoch 62/100\n",
      "245/245 [==============================] - 9s 38ms/step - loss: 0.1231 - accuracy: 0.9604\n",
      "Epoch 63/100\n",
      "245/245 [==============================] - 10s 40ms/step - loss: 0.1204 - accuracy: 0.9617\n",
      "Epoch 64/100\n",
      "245/245 [==============================] - 10s 42ms/step - loss: 0.1187 - accuracy: 0.9609\n",
      "Epoch 65/100\n",
      "245/245 [==============================] - 10s 40ms/step - loss: 0.1189 - accuracy: 0.9607\n",
      "Epoch 66/100\n",
      "245/245 [==============================] - 9s 38ms/step - loss: 0.1896 - accuracy: 0.9456\n",
      "Epoch 67/100\n",
      "245/245 [==============================] - 9s 36ms/step - loss: 0.1538 - accuracy: 0.9571\n",
      "Epoch 68/100\n",
      "245/245 [==============================] - 9s 36ms/step - loss: 0.1186 - accuracy: 0.9611\n",
      "Epoch 69/100\n",
      "245/245 [==============================] - 9s 37ms/step - loss: 0.1141 - accuracy: 0.9617\n",
      "Epoch 70/100\n",
      "245/245 [==============================] - 9s 36ms/step - loss: 0.1124 - accuracy: 0.9611\n",
      "Epoch 71/100\n",
      "245/245 [==============================] - 9s 35ms/step - loss: 0.1117 - accuracy: 0.9612\n",
      "Epoch 72/100\n",
      "245/245 [==============================] - 10s 40ms/step - loss: 0.1115 - accuracy: 0.9605\n",
      "Epoch 73/100\n",
      "245/245 [==============================] - 10s 39ms/step - loss: 0.1106 - accuracy: 0.9620\n",
      "Epoch 74/100\n",
      "245/245 [==============================] - 10s 39ms/step - loss: 0.1092 - accuracy: 0.9623\n",
      "Epoch 75/100\n",
      "245/245 [==============================] - 9s 35ms/step - loss: 0.1092 - accuracy: 0.9612\n",
      "Epoch 76/100\n",
      "245/245 [==============================] - 9s 35ms/step - loss: 0.1094 - accuracy: 0.9599\n",
      "Epoch 77/100\n",
      "245/245 [==============================] - 9s 38ms/step - loss: 0.1093 - accuracy: 0.9603\n",
      "Epoch 78/100\n",
      "245/245 [==============================] - 9s 37ms/step - loss: 0.1080 - accuracy: 0.9600\n",
      "Epoch 79/100\n",
      "245/245 [==============================] - 9s 38ms/step - loss: 0.1083 - accuracy: 0.9608\n",
      "Epoch 80/100\n",
      "245/245 [==============================] - 9s 36ms/step - loss: 0.1072 - accuracy: 0.9611\n",
      "Epoch 81/100\n",
      "245/245 [==============================] - 9s 37ms/step - loss: 0.1069 - accuracy: 0.9605\n",
      "Epoch 82/100\n",
      "245/245 [==============================] - 10s 39ms/step - loss: 0.1076 - accuracy: 0.9614\n",
      "Epoch 83/100\n",
      "245/245 [==============================] - 10s 40ms/step - loss: 0.1072 - accuracy: 0.9614\n",
      "Epoch 84/100\n",
      "245/245 [==============================] - 10s 41ms/step - loss: 0.1064 - accuracy: 0.9609\n",
      "Epoch 85/100\n",
      "245/245 [==============================] - 10s 42ms/step - loss: 0.1114 - accuracy: 0.9599\n",
      "Epoch 86/100\n",
      "245/245 [==============================] - 9s 37ms/step - loss: 0.1768 - accuracy: 0.9457\n",
      "Epoch 87/100\n",
      "245/245 [==============================] - 9s 38ms/step - loss: 0.1267 - accuracy: 0.9589\n",
      "Epoch 88/100\n",
      "245/245 [==============================] - 10s 40ms/step - loss: 0.1081 - accuracy: 0.9613\n",
      "Epoch 89/100\n",
      "245/245 [==============================] - 10s 39ms/step - loss: 0.1049 - accuracy: 0.9626\n",
      "Epoch 90/100\n",
      "245/245 [==============================] - 9s 37ms/step - loss: 0.1047 - accuracy: 0.9608\n",
      "Epoch 91/100\n",
      "245/245 [==============================] - 9s 38ms/step - loss: 0.1043 - accuracy: 0.9613\n",
      "Epoch 92/100\n",
      "245/245 [==============================] - 10s 41ms/step - loss: 0.1043 - accuracy: 0.9616\n",
      "Epoch 93/100\n",
      "245/245 [==============================] - 9s 38ms/step - loss: 0.1038 - accuracy: 0.9604\n",
      "Epoch 94/100\n",
      "245/245 [==============================] - 10s 41ms/step - loss: 0.1036 - accuracy: 0.9621\n",
      "Epoch 95/100\n",
      "245/245 [==============================] - 10s 41ms/step - loss: 0.1035 - accuracy: 0.9612\n",
      "Epoch 96/100\n",
      "245/245 [==============================] - 10s 40ms/step - loss: 0.1029 - accuracy: 0.9616\n",
      "Epoch 97/100\n",
      "245/245 [==============================] - 10s 40ms/step - loss: 0.1031 - accuracy: 0.9608\n",
      "Epoch 98/100\n",
      "245/245 [==============================] - 11s 43ms/step - loss: 0.1035 - accuracy: 0.9604\n",
      "Epoch 99/100\n",
      "245/245 [==============================] - 9s 36ms/step - loss: 0.1031 - accuracy: 0.9614\n",
      "Epoch 100/100\n",
      "245/245 [==============================] - 9s 37ms/step - loss: 0.1029 - accuracy: 0.9609\n"
     ]
    },
    {
     "data": {
      "text/plain": "<keras.src.callbacks.History at 0x17f439e80>"
     },
     "execution_count": 22,
     "metadata": {},
     "output_type": "execute_result"
    }
   ],
   "source": [
    "model.fit(X, Y, epochs=100)"
   ],
   "metadata": {
    "collapsed": false,
    "ExecuteTime": {
     "end_time": "2024-12-21T19:53:48.340719Z",
     "start_time": "2024-12-21T19:38:26.483701Z"
    }
   },
   "id": "600ed976bc90fe15",
   "execution_count": 22
  },
  {
   "cell_type": "code",
   "outputs": [
    {
     "name": "stdout",
     "output_type": "stream",
     "text": [
      "1/1 [==============================] - 0s 11ms/step\n",
      "biomolecule interactions\n",
      "1/1 [==============================] - 0s 13ms/step\n",
      "biomolecule interactions lead\n",
      "1/1 [==============================] - 0s 13ms/step\n",
      "biomolecule interactions lead to\n",
      "1/1 [==============================] - 0s 11ms/step\n",
      "biomolecule interactions lead to bead\n",
      "1/1 [==============================] - 0s 11ms/step\n",
      "biomolecule interactions lead to bead incorporation\n"
     ]
    }
   ],
   "source": [
    "# Now let's see the prediction of our model. \n",
    "import numpy as np\n",
    "\n",
    "pred_text = (\"biomolecule\")\n",
    "\n",
    "for i in range(5):               # We want to predict next ten words. \n",
    "    # tokenize the pred_text. \n",
    "    token_pred_text = tokenizer.texts_to_sequences([pred_text])[0]\n",
    "    # padding\n",
    "    padded_pred_text = pad_sequences([token_pred_text], maxlen=52, padding='pre')\n",
    "    # prediction\n",
    "    pos_next_word = np.argmax(model.predict(padded_pred_text))\n",
    "    \n",
    "    for word, index in tokenizer.word_index.items():\n",
    "        if index == pos_next_word:\n",
    "            pred_text = pred_text + \" \" + word\n",
    "            print(pred_text)"
   ],
   "metadata": {
    "collapsed": false,
    "ExecuteTime": {
     "end_time": "2024-12-21T19:59:15.144186Z",
     "start_time": "2024-12-21T19:59:14.962755Z"
    }
   },
   "id": "2c6432e9bd9d7534",
   "execution_count": 28
  }
 ],
 "metadata": {
  "kernelspec": {
   "display_name": "Python 3",
   "language": "python",
   "name": "python3"
  },
  "language_info": {
   "codemirror_mode": {
    "name": "ipython",
    "version": 2
   },
   "file_extension": ".py",
   "mimetype": "text/x-python",
   "name": "python",
   "nbconvert_exporter": "python",
   "pygments_lexer": "ipython2",
   "version": "2.7.6"
  }
 },
 "nbformat": 4,
 "nbformat_minor": 5
}
