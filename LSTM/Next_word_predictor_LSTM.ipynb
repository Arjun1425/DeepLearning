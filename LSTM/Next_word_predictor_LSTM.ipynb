{
 "cells": [
  {
   "cell_type": "code",
   "execution_count": 40,
   "id": "initial_id",
   "metadata": {
    "collapsed": true,
    "ExecuteTime": {
     "end_time": "2024-12-17T23:07:14.277013Z",
     "start_time": "2024-12-17T23:07:14.259212Z"
    }
   },
   "outputs": [],
   "source": [
    "import fitz\n",
    "import re \n",
    "\n",
    "def extract_sentences_from_pdf(pdf_file):\n",
    "    doc = fitz.open(pdf_file)\n",
    "    text = \"\"\n",
    "    \n",
    "    for page in doc[5:]:\n",
    "        text += page.get_text()\n",
    "        \n",
    "    #Cleaning the text\n",
    "    cleaned_text = re.sub(r\"[^a-zA-Z\\s.]\", \"\", text)\n",
    "    # Remove extra spaces, including those before periods\n",
    "    cleaned_text = re.sub(r'\\s+', ' ', cleaned_text)\n",
    "    cleaned_text = re.sub(r'\\s\\.', '.', cleaned_text)\n",
    "    \n",
    "    doc.close()\n",
    "    return cleaned_text"
   ]
  },
  {
   "cell_type": "code",
   "outputs": [],
   "source": [
    "sentences = extract_sentences_from_pdf(\"./Arjun_Thesis_Proposal.pdf\")"
   ],
   "metadata": {
    "collapsed": false,
    "ExecuteTime": {
     "end_time": "2024-12-17T23:07:17.335225Z",
     "start_time": "2024-12-17T23:07:17.186760Z"
    }
   },
   "id": "ecc763fb9df99255",
   "execution_count": 41
  },
  {
   "cell_type": "code",
   "outputs": [
    {
     "name": "stdout",
     "output_type": "stream",
     "text": [
      " CHAPTER INTRODUCTION AND BACKGROUND. Biomolecular condensates Biomolecular condensates found in biology commonly function as membraneless organelles that form through liquidliquid phase separation LLPS a process where proteins and nucleic acids as semble into dynamic highlyconcentrated and spatiallysegregated dropletlike structures within cells Figure.. Figure. A cartoon showing a cell with different compartments condensates that organize biomolecules involved in similar functions. The primary \n"
     ]
    }
   ],
   "source": [
    "print(sentences[:500])"
   ],
   "metadata": {
    "collapsed": false,
    "ExecuteTime": {
     "end_time": "2024-12-17T23:07:21.185851Z",
     "start_time": "2024-12-17T23:07:21.177818Z"
    }
   },
   "id": "3ef1587300b0587c",
   "execution_count": 42
  },
  {
   "cell_type": "code",
   "outputs": [],
   "source": [
    "import tensorflow as tf \n",
    "from tensorflow.keras.preprocessing.text import Tokenizer"
   ],
   "metadata": {
    "collapsed": false,
    "ExecuteTime": {
     "end_time": "2024-12-17T23:07:29.289068Z",
     "start_time": "2024-12-17T23:07:29.280932Z"
    }
   },
   "id": "9fa714913be2b376",
   "execution_count": 43
  },
  {
   "cell_type": "code",
   "outputs": [],
   "source": [
    "tokenizer = Tokenizer()"
   ],
   "metadata": {
    "collapsed": false,
    "ExecuteTime": {
     "end_time": "2024-12-17T23:07:31.445538Z",
     "start_time": "2024-12-17T23:07:31.440446Z"
    }
   },
   "id": "29932acc1c541d26",
   "execution_count": 44
  },
  {
   "cell_type": "code",
   "outputs": [],
   "source": [
    "# Giving number to every unique word in the data. \n",
    "tokenizer.fit_on_texts([sentences])"
   ],
   "metadata": {
    "collapsed": false,
    "ExecuteTime": {
     "end_time": "2024-12-17T23:07:34.914976Z",
     "start_time": "2024-12-17T23:07:34.904620Z"
    }
   },
   "id": "91f4db331afc4ff0",
   "execution_count": 45
  },
  {
   "cell_type": "code",
   "outputs": [
    {
     "name": "stdout",
     "output_type": "stream",
     "text": [
      "[('the', 1), ('and', 2), ('of', 3), ('to', 4), ('a', 5), ('in', 6), ('phase', 7), ('for', 8), ('we', 9), ('sequence', 10)]\n"
     ]
    }
   ],
   "source": [
    "lis = list(tokenizer.word_index.items())[:10]\n",
    "print(lis)"
   ],
   "metadata": {
    "collapsed": false,
    "ExecuteTime": {
     "end_time": "2024-12-17T23:12:50.931447Z",
     "start_time": "2024-12-17T23:12:50.923645Z"
    }
   },
   "id": "639b78a0c2f93e55",
   "execution_count": 50
  },
  {
   "cell_type": "code",
   "outputs": [],
   "source": [
    "# Break data into sentences. \n",
    "for sentence in sentences.split('.'):\n",
    "    tokenizer.texts_to_sequences([sentence])"
   ],
   "metadata": {
    "collapsed": false,
    "ExecuteTime": {
     "end_time": "2024-12-17T23:58:45.515224Z",
     "start_time": "2024-12-17T23:58:45.496248Z"
    }
   },
   "id": "201804cc0588193a",
   "execution_count": 72
  },
  {
   "cell_type": "markdown",
   "source": [
    "print(tokenizer.texts_to_sequences([sentence])[0])\n",
    "--> \n",
    "[271, 878, 2, 879]\n",
    "[36, 15, 36, 15, 407, 6, 163, 562, 79, 13, 272, 273, 21, 118, 332, 226, 7, 14, 164, 5, 165, 95, 17, 2, 563, 109, 13, 880, 26, 564, 881, 2, 882, 883, 227, 59, 408, 22]\n",
    "[]\n",
    "[22]\n",
    "[5, 884, 409, 5, 190, 16, 145, 565, 15, 21, 410, 228, 566, 6, 274, 333]\n",
    "[1, 885, 334, 275, 43, 101, 411, 335, 886, 887, 276, 91, 13, 888, 567, 412, 568, 569, 889, 2, 890, 19, 32, 891, 892, 2, 893, 894, 895, 19, 32, 17, 2, 570, 229, 336, 896, 897, 62, 44, 166, 277]\n",
    "[27, 19, 278, 4, 1, 8, 898, 3, 571, 572, 45, 573, 22]............."
   ],
   "metadata": {
    "collapsed": false
   },
   "id": "a95454a7439eff32"
  },
  {
   "cell_type": "code",
   "outputs": [],
   "source": [],
   "metadata": {
    "collapsed": false,
    "ExecuteTime": {
     "end_time": "2024-12-17T23:32:43.947687Z",
     "start_time": "2024-12-17T23:32:43.932933Z"
    }
   },
   "id": "6c8d044f9fed6a73",
   "execution_count": 54
  }
 ],
 "metadata": {
  "kernelspec": {
   "display_name": "Python 3",
   "language": "python",
   "name": "python3"
  },
  "language_info": {
   "codemirror_mode": {
    "name": "ipython",
    "version": 2
   },
   "file_extension": ".py",
   "mimetype": "text/x-python",
   "name": "python",
   "nbconvert_exporter": "python",
   "pygments_lexer": "ipython2",
   "version": "2.7.6"
  }
 },
 "nbformat": 4,
 "nbformat_minor": 5
}
