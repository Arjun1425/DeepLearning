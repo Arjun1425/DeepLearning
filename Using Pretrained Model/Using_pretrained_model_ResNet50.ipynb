{
 "cells": [
  {
   "cell_type": "markdown",
   "source": [
    "## Using ResNet50 as a simple classifier.  "
   ],
   "metadata": {
    "collapsed": false
   },
   "id": "b6939f374caed1d2"
  },
  {
   "cell_type": "code",
   "outputs": [],
   "source": [
    "from tensorflow.keras.applications.resnet50 import ResNet50\n",
    "from tensorflow.keras.preprocessing import image\n",
    "from tensorflow.keras.applications.resnet50 import preprocess_input, decode_predictions\n",
    "import numpy as np"
   ],
   "metadata": {
    "collapsed": true,
    "ExecuteTime": {
     "end_time": "2024-10-04T15:36:18.630342Z",
     "start_time": "2024-10-04T15:36:18.622758Z"
    }
   },
   "id": "initial_id",
   "execution_count": 2
  },
  {
   "cell_type": "code",
   "outputs": [
    {
     "name": "stdout",
     "output_type": "stream",
     "text": [
      "Downloading data from https://storage.googleapis.com/tensorflow/keras-applications/resnet/resnet50_weights_tf_dim_ordering_tf_kernels.h5\n",
      "102967424/102967424 [==============================] - 4s 0us/step\n"
     ]
    }
   ],
   "source": [
    "model = ResNet50(weights='imagenet')"
   ],
   "metadata": {
    "collapsed": false,
    "ExecuteTime": {
     "end_time": "2024-10-04T15:42:23.017757Z",
     "start_time": "2024-10-04T15:42:17.431197Z"
    }
   },
   "id": "b4dc977f9f3e4e97",
   "execution_count": 3
  },
  {
   "cell_type": "code",
   "outputs": [],
   "source": [
    "img_path = 'dog.jpeg'\n",
    "img = image.load_img(img_path, target_size=(224,224))\n",
    "x = image.img_to_array(img)\n",
    "x = np.expand_dims(x, axis=0)\n",
    "x = preprocess_input(x)"
   ],
   "metadata": {
    "collapsed": false,
    "ExecuteTime": {
     "end_time": "2024-10-04T15:55:00.622772Z",
     "start_time": "2024-10-04T15:55:00.517334Z"
    }
   },
   "id": "af3666f3ad08b6b3",
   "execution_count": 12
  },
  {
   "cell_type": "code",
   "outputs": [
    {
     "name": "stdout",
     "output_type": "stream",
     "text": [
      "1/1 [==============================] - 0s 97ms/step\n",
      "Prediction: [[('n02099601', 'golden_retriever', 0.2521477), ('n02113624', 'toy_poodle', 0.13501745), ('n02113712', 'miniature_poodle', 0.117137074)]]\n"
     ]
    }
   ],
   "source": [
    "prediction = model.predict(x)\n",
    "print(f'Prediction: {decode_predictions(prediction, top=3)}')"
   ],
   "metadata": {
    "collapsed": false,
    "ExecuteTime": {
     "end_time": "2024-10-04T15:55:02.925514Z",
     "start_time": "2024-10-04T15:55:02.783479Z"
    }
   },
   "id": "79f97e87be529963",
   "execution_count": 13
  }
 ],
 "metadata": {
  "kernelspec": {
   "display_name": "Python 3",
   "language": "python",
   "name": "python3"
  },
  "language_info": {
   "codemirror_mode": {
    "name": "ipython",
    "version": 2
   },
   "file_extension": ".py",
   "mimetype": "text/x-python",
   "name": "python",
   "nbconvert_exporter": "python",
   "pygments_lexer": "ipython2",
   "version": "2.7.6"
  }
 },
 "nbformat": 4,
 "nbformat_minor": 5
}
