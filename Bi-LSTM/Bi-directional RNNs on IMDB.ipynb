{
 "cells": [
  {
   "cell_type": "code",
   "execution_count": 6,
   "id": "initial_id",
   "metadata": {
    "collapsed": true,
    "ExecuteTime": {
     "end_time": "2024-12-23T12:05:34.841990Z",
     "start_time": "2024-12-23T12:05:34.832480Z"
    }
   },
   "outputs": [],
   "source": [
    "import tensorflow as tf\n",
    "from tensorflow.keras.models import Sequential\n",
    "from tensorflow.keras.layers import Embedding, LSTM, Bidirectional, Dense\n",
    "from tensorflow.keras.datasets import imdb\n",
    "from tensorflow.keras.preprocessing.sequence import pad_sequences"
   ]
  },
  {
   "cell_type": "code",
   "outputs": [],
   "source": [
    "# Number of words to keep\n",
    "number_words = 10000\n",
    "(x_train, y_train), (x_test, y_test) = imdb.load_data(num_words=number_words)\n",
    "\n",
    "# Pad sequence \n",
    "max_length = 100       # Maximum length of the sequence. \n",
    "x_train = pad_sequences(x_train, maxlen=max_length, padding='post', truncating='post')\n",
    "x_test = pad_sequences(x_test, maxlen=max_length, padding='post', truncating='post')\n",
    "\n",
    "# Dimensions of embedding layer. \n",
    "embedding_dim = 32"
   ],
   "metadata": {
    "collapsed": false,
    "ExecuteTime": {
     "end_time": "2024-12-23T12:03:16.384047Z",
     "start_time": "2024-12-23T12:03:13.869668Z"
    }
   },
   "id": "de71b33f2ad3ea6e",
   "execution_count": 4
  },
  {
   "cell_type": "code",
   "outputs": [],
   "source": [
    "# Simple LSTM Model\n",
    "model = Sequential()\n",
    "model.add(Embedding(number_words, embedding_dim, input_length=max_length))\n",
    "model.add(LSTM(5))\n",
    "model.add(Dense(1, activation='sigmoid'))"
   ],
   "metadata": {
    "collapsed": false,
    "ExecuteTime": {
     "end_time": "2024-12-23T12:05:37.701289Z",
     "start_time": "2024-12-23T12:05:37.513817Z"
    }
   },
   "id": "e4fb13dbc4eeda5a",
   "execution_count": 7
  },
  {
   "cell_type": "code",
   "outputs": [
    {
     "name": "stdout",
     "output_type": "stream",
     "text": [
      "Model: \"sequential_1\"\n",
      "_________________________________________________________________\n",
      " Layer (type)                Output Shape              Param #   \n",
      "=================================================================\n",
      " embedding_1 (Embedding)     (None, 100, 32)           320000    \n",
      "                                                                 \n",
      " lstm_1 (LSTM)               (None, 5)                 760       \n",
      "                                                                 \n",
      " dense (Dense)               (None, 1)                 6         \n",
      "                                                                 \n",
      "=================================================================\n",
      "Total params: 320766 (1.22 MB)\n",
      "Trainable params: 320766 (1.22 MB)\n",
      "Non-trainable params: 0 (0.00 Byte)\n",
      "_________________________________________________________________\n"
     ]
    }
   ],
   "source": [
    "model.summary()"
   ],
   "metadata": {
    "collapsed": false,
    "ExecuteTime": {
     "end_time": "2024-12-23T12:05:51.633090Z",
     "start_time": "2024-12-23T12:05:51.610147Z"
    }
   },
   "id": "7849e67e4c66748e",
   "execution_count": 8
  },
  {
   "cell_type": "code",
   "outputs": [],
   "source": [
    "# Building different model\n",
    "model1 = Sequential()\n",
    "model1.add(Embedding(number_words, embedding_dim, input_length=max_length))\n",
    "model1.add(Bidirectional(LSTM(5)))          # See here you just take the LSTM in the bidirectional. \n",
    "model1.add(Dense(1, activation='sigmoid'))"
   ],
   "metadata": {
    "collapsed": false,
    "ExecuteTime": {
     "end_time": "2024-12-23T12:07:39.687830Z",
     "start_time": "2024-12-23T12:07:39.107112Z"
    }
   },
   "id": "63a22581baf68d3d",
   "execution_count": 10
  },
  {
   "cell_type": "code",
   "outputs": [
    {
     "name": "stdout",
     "output_type": "stream",
     "text": [
      "Model: \"sequential_3\"\n",
      "_________________________________________________________________\n",
      " Layer (type)                Output Shape              Param #   \n",
      "=================================================================\n",
      " embedding_3 (Embedding)     (None, 100, 32)           320000    \n",
      "                                                                 \n",
      " bidirectional (Bidirection  (None, 10)                1520      \n",
      " al)                                                             \n",
      "                                                                 \n",
      " dense_1 (Dense)             (None, 1)                 11        \n",
      "                                                                 \n",
      "=================================================================\n",
      "Total params: 321531 (1.23 MB)\n",
      "Trainable params: 321531 (1.23 MB)\n",
      "Non-trainable params: 0 (0.00 Byte)\n",
      "_________________________________________________________________\n"
     ]
    }
   ],
   "source": [
    "model1.summary()"
   ],
   "metadata": {
    "collapsed": false,
    "ExecuteTime": {
     "end_time": "2024-12-23T12:08:41.192588Z",
     "start_time": "2024-12-23T12:08:41.174810Z"
    }
   },
   "id": "481f7e4daa684657",
   "execution_count": 11
  }
 ],
 "metadata": {
  "kernelspec": {
   "display_name": "Python 3",
   "language": "python",
   "name": "python3"
  },
  "language_info": {
   "codemirror_mode": {
    "name": "ipython",
    "version": 2
   },
   "file_extension": ".py",
   "mimetype": "text/x-python",
   "name": "python",
   "nbconvert_exporter": "python",
   "pygments_lexer": "ipython2",
   "version": "2.7.6"
  }
 },
 "nbformat": 4,
 "nbformat_minor": 5
}
