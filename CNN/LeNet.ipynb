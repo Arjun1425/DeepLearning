{
 "cells": [
  {
   "cell_type": "markdown",
   "source": [
    "**Using LeNet on Mnist dataset.**"
   ],
   "metadata": {
    "collapsed": false
   },
   "id": "fb57a1c57f389972"
  },
  {
   "cell_type": "markdown",
   "source": [
    "Loading data from Keras dataset."
   ],
   "metadata": {
    "collapsed": false
   },
   "id": "30fe63b3442b4398"
  },
  {
   "cell_type": "code",
   "outputs": [
    {
     "name": "stdout",
     "output_type": "stream",
     "text": [
      "x_train shape: (60000, 28, 28), x_test shape: (10000, 28, 28)\n"
     ]
    }
   ],
   "source": [
    "from keras.datasets import mnist\n",
    "\n",
    "(x_train, y_train), (x_test, y_test) = mnist.load_data()\n",
    "print(f\"x_train shape: {x_train.shape}, x_test shape: {x_test.shape}\")"
   ],
   "metadata": {
    "collapsed": false,
    "ExecuteTime": {
     "end_time": "2024-09-13T21:14:46.829523Z",
     "start_time": "2024-09-13T21:14:46.718593Z"
    }
   },
   "id": "e49a8f8434b7d36e",
   "execution_count": 5
  },
  {
   "cell_type": "markdown",
   "source": [
    "Visualizing 5th data from x_train for fun. "
   ],
   "metadata": {
    "collapsed": false
   },
   "id": "4c539b7d8d95f6e8"
  },
  {
   "cell_type": "code",
   "outputs": [
    {
     "data": {
      "text/plain": "<Figure size 640x480 with 1 Axes>",
      "image/png": "[encoded data removed]"
     },
     "metadata": {},
     "output_type": "display_data"
    }
   ],
   "source": [
    "import matplotlib.pyplot as plt\n",
    "\n",
    "plt.imshow(x_train[5], cmap = 'inferno')\n",
    "plt.show()"
   ],
   "metadata": {
    "collapsed": false,
    "ExecuteTime": {
     "end_time": "2024-09-13T21:20:25.966948Z",
     "start_time": "2024-09-13T21:20:25.869478Z"
    }
   },
   "id": "b1dccedec81c567c",
   "execution_count": 11
  },
  {
   "cell_type": "markdown",
   "source": [
    "**Preprocessing the data.**\n",
    "\n",
    "* Reshape images into the required size of Keras\n",
    "* Convert integer values into float values\n",
    "* Normalize data\n",
    "* One-hot encoding labels"
   ],
   "metadata": {
    "collapsed": false
   },
   "id": "c6dc8a38868cfe33"
  },
  {
   "cell_type": "code",
   "outputs": [],
   "source": [
    "from keras.utils import to_categorical\n",
    "\n",
    "def preprocess_input(x_train, x_test, y_train, y_test):\n",
    "    \n",
    "    # Reshaping image into the required size of Keras\n",
    "    x_train = x_train.reshape(x_train.shape[0], x_train.shape[1], x_train.shape[2], 1)\n",
    "    x_test = x_test.reshape(x_test.shape[0], x_test.shape[1], x_test.shape[2], 1)\n",
    "    \n",
    "    #Converting image into float and normalizing it.\n",
    "    x_train = x_train.astype('float32')/255.0\n",
    "    x_test = x_test.astype('float32')/255\n",
    "    \n",
    "    # One-hot encoding\n",
    "    y_train = to_categorical(y_train)\n",
    "    y_test = to_categorical(y_test)\n",
    "    \n",
    "    return x_train, x_test, y_train, y_test"
   ],
   "metadata": {
    "collapsed": false,
    "ExecuteTime": {
     "end_time": "2024-09-13T22:41:54.039655Z",
     "start_time": "2024-09-13T22:41:54.030720Z"
    }
   },
   "id": "4be27b67b376bc5c",
   "execution_count": 22
  },
  {
   "cell_type": "markdown",
   "source": [
    "LeNet Architecture:\n",
    "--> Used tanh as an activation function. \n",
    "--> 5 layers: \n",
    "    -> 1st layer: 1 Conv2D having size (5,5,6) with AveragePooling2D of size (2,2) having stride = 2.\n",
    "    -> 2nd layer: 1 Conv2D having size (5,5,16) with AveragePooling2D of size (2,2) having stride = 2.\n",
    "    -> layer: Flatten\n",
    "    -> 3rd layer: fully connected nodes having 120 nodes.\n",
    "    -> 4th layer: fully connected nodes having 84 nodes. \n",
    "    -> 5th layer: Softmax with 10 classes.   "
   ],
   "metadata": {
    "collapsed": false
   },
   "id": "3758df13fc055fd6"
  },
  {
   "cell_type": "markdown",
   "source": [
    "**Building LeNet**"
   ],
   "metadata": {
    "collapsed": false
   },
   "id": "5f00a248539dfe30"
  },
  {
   "cell_type": "code",
   "outputs": [],
   "source": [
    "from keras.layers import Dense, Conv2D, Flatten, MaxPooling2D\n",
    "from keras import Sequential\n",
    "from keras.optimizers import SGD\n",
    "from keras.metrics import categorical_crossentropy"
   ],
   "metadata": {
    "collapsed": false,
    "ExecuteTime": {
     "end_time": "2024-09-13T22:24:27.530420Z",
     "start_time": "2024-09-13T22:24:27.512564Z"
    }
   },
   "id": "2c6a3e7ef39ed7e1",
   "execution_count": 12
  },
  {
   "cell_type": "code",
   "outputs": [],
   "source": [
    "def LeNet():\n",
    "    model = Sequential()\n",
    "\n",
    "    model.add(Conv2D(6, kernel_size = (5, 5), activation = 'tanh', input_shape = (28, 28, 1), padding = 'valid'))\n",
    "    model.add(MaxPooling2D(pool_size = (2, 2), strides = 2, padding = 'valid'))\n",
    "\n",
    "    model.add(Conv2D(16, kernel_size = (5, 5), activation = 'tanh', padding = 'valid'))\n",
    "    model.add(MaxPooling2D(pool_size = (2, 2), strides = 2, padding = 'valid'))\n",
    "\n",
    "    model.add(Flatten())\n",
    "\n",
    "    model.add(Dense(120, activation = 'tanh'))\n",
    "    model.add(Dense(84, activation = 'tanh'))\n",
    "    model.add(Dense(10, activation = 'Softmax'))\n",
    "    \n",
    "    opt = SGD(learning_rate=0.01)\n",
    "    model.compile(loss = categorical_crossentropy, optimizer =opt, metrics = ['accuracy'])\n",
    "    \n",
    "    return model"
   ],
   "metadata": {
    "collapsed": false,
    "ExecuteTime": {
     "end_time": "2024-09-13T22:26:02.481359Z",
     "start_time": "2024-09-13T22:26:02.470788Z"
    }
   },
   "id": "b75126c15ca4d026",
   "execution_count": 18
  },
  {
   "cell_type": "code",
   "outputs": [
    {
     "name": "stderr",
     "output_type": "stream",
     "text": [
      "WARNING:absl:At this time, the v2.11+ optimizer `tf.keras.optimizers.SGD` runs slowly on M1/M2 Macs, please use the legacy Keras optimizer instead, located at `tf.keras.optimizers.legacy.SGD`.\n"
     ]
    },
    {
     "name": "stdout",
     "output_type": "stream",
     "text": [
      "Model: \"sequential_6\"\n",
      "_________________________________________________________________\n",
      " Layer (type)                Output Shape              Param #   \n",
      "=================================================================\n",
      " conv2d_12 (Conv2D)          (None, 24, 24, 6)         156       \n",
      "                                                                 \n",
      " max_pooling2d_12 (MaxPooli  (None, 12, 12, 6)         0         \n",
      " ng2D)                                                           \n",
      "                                                                 \n",
      " conv2d_13 (Conv2D)          (None, 8, 8, 16)          2416      \n",
      "                                                                 \n",
      " max_pooling2d_13 (MaxPooli  (None, 4, 4, 16)          0         \n",
      " ng2D)                                                           \n",
      "                                                                 \n",
      " flatten_6 (Flatten)         (None, 256)               0         \n",
      "                                                                 \n",
      " dense_18 (Dense)            (None, 120)               30840     \n",
      "                                                                 \n",
      " dense_19 (Dense)            (None, 84)                10164     \n",
      "                                                                 \n",
      " dense_20 (Dense)            (None, 10)                850       \n",
      "                                                                 \n",
      "=================================================================\n",
      "Total params: 44426 (173.54 KB)\n",
      "Trainable params: 44426 (173.54 KB)\n",
      "Non-trainable params: 0 (0.00 Byte)\n",
      "_________________________________________________________________\n"
     ]
    }
   ],
   "source": [
    "LeNet().summary()"
   ],
   "metadata": {
    "collapsed": false,
    "ExecuteTime": {
     "end_time": "2024-09-13T22:26:04.923696Z",
     "start_time": "2024-09-13T22:26:04.839903Z"
    }
   },
   "id": "f1c8d1ab5740f7f3",
   "execution_count": 19
  },
  {
   "cell_type": "code",
   "outputs": [],
   "source": [
    "def train_model(model, x_train, y_train, x_test, y_test, epochs = 50, batch_size = 128):\n",
    "    x_train, x_test, y_train, y_test = preprocess_input(x_train, x_test, y_train, y_test)\n",
    "    \n",
    "    history = model.fit(x_train, y_train, validation_data=(x_test, y_test), epochs = epochs, batch_size = batch_size, steps_per_epoch = x_train.shape[0]//batch_size, validation_steps = x_test.shape[0]//batch_size , verbose = 1)\n",
    "    \n",
    "    _, acc = model.evaluate(x_test, y_test, verbose =1)\n",
    "    return acc, history\n",
    "\n",
    "def plotting(history):\n",
    "    plt.figure(figsize=(8,6))\n",
    "    plt.plot(history.history['accuracy'], color = 'blue', label = 'train')\n",
    "    plt.plot(history.history['val_accuracy'], color = 'red', label = \"train\")\n",
    "    plt.legend()\n",
    "    plt.show()"
   ],
   "metadata": {
    "collapsed": false,
    "ExecuteTime": {
     "end_time": "2024-09-13T22:42:23.100831Z",
     "start_time": "2024-09-13T22:42:23.091107Z"
    }
   },
   "id": "b87bb713d01e0e26",
   "execution_count": 24
  },
  {
   "cell_type": "code",
   "outputs": [
    {
     "name": "stderr",
     "output_type": "stream",
     "text": [
      "WARNING:absl:At this time, the v2.11+ optimizer `tf.keras.optimizers.SGD` runs slowly on M1/M2 Macs, please use the legacy Keras optimizer instead, located at `tf.keras.optimizers.legacy.SGD`.\n"
     ]
    },
    {
     "name": "stdout",
     "output_type": "stream",
     "text": [
      "Epoch 1/50\n",
      "468/468 [==============================] - 5s 10ms/step - loss: 1.1678 - accuracy: 0.7042 - val_loss: 0.5605 - val_accuracy: 0.8606\n",
      "Epoch 2/50\n",
      "468/468 [==============================] - 5s 10ms/step - loss: 0.4648 - accuracy: 0.8788 - val_loss: 0.3699 - val_accuracy: 0.9038\n",
      "Epoch 3/50\n",
      "468/468 [==============================] - 4s 9ms/step - loss: 0.3410 - accuracy: 0.9077 - val_loss: 0.2899 - val_accuracy: 0.9204\n",
      "Epoch 4/50\n",
      "468/468 [==============================] - 4s 10ms/step - loss: 0.2771 - accuracy: 0.9245 - val_loss: 0.2411 - val_accuracy: 0.9309\n",
      "Epoch 5/50\n",
      "468/468 [==============================] - 4s 9ms/step - loss: 0.2346 - accuracy: 0.9350 - val_loss: 0.2062 - val_accuracy: 0.9408\n",
      "Epoch 6/50\n",
      "468/468 [==============================] - 4s 9ms/step - loss: 0.2057 - accuracy: 0.9428 - val_loss: 0.1814 - val_accuracy: 0.9474\n",
      "Epoch 7/50\n",
      "468/468 [==============================] - 4s 9ms/step - loss: 0.1816 - accuracy: 0.9495 - val_loss: 0.1626 - val_accuracy: 0.9529\n",
      "Epoch 8/50\n",
      "468/468 [==============================] - 4s 9ms/step - loss: 0.1645 - accuracy: 0.9540 - val_loss: 0.1470 - val_accuracy: 0.9570\n",
      "Epoch 9/50\n",
      "468/468 [==============================] - 4s 10ms/step - loss: 0.1509 - accuracy: 0.9575 - val_loss: 0.1348 - val_accuracy: 0.9605\n",
      "Epoch 10/50\n",
      "468/468 [==============================] - 4s 10ms/step - loss: 0.1385 - accuracy: 0.9608 - val_loss: 0.1255 - val_accuracy: 0.9627\n",
      "Epoch 11/50\n",
      "468/468 [==============================] - 4s 9ms/step - loss: 0.1288 - accuracy: 0.9635 - val_loss: 0.1166 - val_accuracy: 0.9653\n",
      "Epoch 12/50\n",
      "468/468 [==============================] - 4s 9ms/step - loss: 0.1209 - accuracy: 0.9656 - val_loss: 0.1112 - val_accuracy: 0.9669\n",
      "Epoch 13/50\n",
      "468/468 [==============================] - 5s 10ms/step - loss: 0.1146 - accuracy: 0.9676 - val_loss: 0.1037 - val_accuracy: 0.9686\n",
      "Epoch 14/50\n",
      "468/468 [==============================] - 4s 9ms/step - loss: 0.1081 - accuracy: 0.9692 - val_loss: 0.1002 - val_accuracy: 0.9702\n",
      "Epoch 15/50\n",
      "468/468 [==============================] - 4s 9ms/step - loss: 0.1030 - accuracy: 0.9705 - val_loss: 0.0944 - val_accuracy: 0.9718\n",
      "Epoch 16/50\n",
      "468/468 [==============================] - 5s 10ms/step - loss: 0.0980 - accuracy: 0.9721 - val_loss: 0.0903 - val_accuracy: 0.9727\n",
      "Epoch 17/50\n",
      "468/468 [==============================] - 4s 10ms/step - loss: 0.0935 - accuracy: 0.9734 - val_loss: 0.0868 - val_accuracy: 0.9743\n",
      "Epoch 18/50\n",
      "468/468 [==============================] - 5s 10ms/step - loss: 0.0905 - accuracy: 0.9740 - val_loss: 0.0840 - val_accuracy: 0.9744\n",
      "Epoch 19/50\n",
      "468/468 [==============================] - 4s 10ms/step - loss: 0.0865 - accuracy: 0.9751 - val_loss: 0.0812 - val_accuracy: 0.9750\n",
      "Epoch 20/50\n",
      "468/468 [==============================] - 4s 9ms/step - loss: 0.0838 - accuracy: 0.9756 - val_loss: 0.0785 - val_accuracy: 0.9764\n",
      "Epoch 21/50\n",
      "468/468 [==============================] - 5s 10ms/step - loss: 0.0805 - accuracy: 0.9768 - val_loss: 0.0760 - val_accuracy: 0.9775\n",
      "Epoch 22/50\n",
      "468/468 [==============================] - 5s 10ms/step - loss: 0.0782 - accuracy: 0.9775 - val_loss: 0.0747 - val_accuracy: 0.9773\n",
      "Epoch 23/50\n",
      "468/468 [==============================] - 5s 10ms/step - loss: 0.0756 - accuracy: 0.9783 - val_loss: 0.0720 - val_accuracy: 0.9777\n",
      "Epoch 24/50\n",
      "468/468 [==============================] - 5s 10ms/step - loss: 0.0740 - accuracy: 0.9785 - val_loss: 0.0706 - val_accuracy: 0.9792\n",
      "Epoch 25/50\n",
      "468/468 [==============================] - 5s 10ms/step - loss: 0.0706 - accuracy: 0.9797 - val_loss: 0.0684 - val_accuracy: 0.9794\n",
      "Epoch 26/50\n",
      "468/468 [==============================] - 5s 10ms/step - loss: 0.0696 - accuracy: 0.9796 - val_loss: 0.0674 - val_accuracy: 0.9800\n",
      "Epoch 27/50\n",
      "468/468 [==============================] - 5s 10ms/step - loss: 0.0681 - accuracy: 0.9806 - val_loss: 0.0658 - val_accuracy: 0.9800\n",
      "Epoch 28/50\n",
      "468/468 [==============================] - 5s 10ms/step - loss: 0.0654 - accuracy: 0.9814 - val_loss: 0.0645 - val_accuracy: 0.9810\n",
      "Epoch 29/50\n",
      "468/468 [==============================] - 5s 10ms/step - loss: 0.0639 - accuracy: 0.9816 - val_loss: 0.0634 - val_accuracy: 0.9808\n",
      "Epoch 30/50\n",
      "468/468 [==============================] - 5s 10ms/step - loss: 0.0635 - accuracy: 0.9822 - val_loss: 0.0615 - val_accuracy: 0.9818\n",
      "Epoch 31/50\n",
      "468/468 [==============================] - 5s 10ms/step - loss: 0.0614 - accuracy: 0.9824 - val_loss: 0.0612 - val_accuracy: 0.9816\n",
      "Epoch 32/50\n",
      "468/468 [==============================] - 5s 11ms/step - loss: 0.0599 - accuracy: 0.9829 - val_loss: 0.0600 - val_accuracy: 0.9821\n",
      "Epoch 33/50\n",
      "468/468 [==============================] - 5s 10ms/step - loss: 0.0582 - accuracy: 0.9832 - val_loss: 0.0593 - val_accuracy: 0.9816\n",
      "Epoch 34/50\n",
      "468/468 [==============================] - 5s 10ms/step - loss: 0.0577 - accuracy: 0.9833 - val_loss: 0.0588 - val_accuracy: 0.9820\n",
      "Epoch 35/50\n",
      "468/468 [==============================] - 6s 14ms/step - loss: 0.0550 - accuracy: 0.9844 - val_loss: 0.0571 - val_accuracy: 0.9831\n",
      "Epoch 36/50\n",
      "468/468 [==============================] - 5s 11ms/step - loss: 0.0557 - accuracy: 0.9838 - val_loss: 0.0565 - val_accuracy: 0.9827\n",
      "Epoch 37/50\n",
      "468/468 [==============================] - 5s 10ms/step - loss: 0.0536 - accuracy: 0.9848 - val_loss: 0.0552 - val_accuracy: 0.9833\n",
      "Epoch 38/50\n",
      "468/468 [==============================] - 5s 10ms/step - loss: 0.0534 - accuracy: 0.9849 - val_loss: 0.0547 - val_accuracy: 0.9829\n",
      "Epoch 39/50\n",
      "468/468 [==============================] - 5s 10ms/step - loss: 0.0516 - accuracy: 0.9854 - val_loss: 0.0544 - val_accuracy: 0.9829\n",
      "Epoch 40/50\n",
      "468/468 [==============================] - 5s 11ms/step - loss: 0.0508 - accuracy: 0.9855 - val_loss: 0.0539 - val_accuracy: 0.9832\n",
      "Epoch 41/50\n",
      "468/468 [==============================] - 5s 11ms/step - loss: 0.0508 - accuracy: 0.9855 - val_loss: 0.0528 - val_accuracy: 0.9829\n",
      "Epoch 42/50\n",
      "468/468 [==============================] - 5s 11ms/step - loss: 0.0481 - accuracy: 0.9867 - val_loss: 0.0521 - val_accuracy: 0.9831\n",
      "Epoch 43/50\n",
      "468/468 [==============================] - 5s 11ms/step - loss: 0.0488 - accuracy: 0.9860 - val_loss: 0.0514 - val_accuracy: 0.9835\n",
      "Epoch 44/50\n",
      "468/468 [==============================] - 5s 11ms/step - loss: 0.0475 - accuracy: 0.9865 - val_loss: 0.0510 - val_accuracy: 0.9837\n",
      "Epoch 45/50\n",
      "468/468 [==============================] - 5s 11ms/step - loss: 0.0463 - accuracy: 0.9869 - val_loss: 0.0507 - val_accuracy: 0.9838\n",
      "Epoch 46/50\n",
      "468/468 [==============================] - 6s 12ms/step - loss: 0.0451 - accuracy: 0.9876 - val_loss: 0.0501 - val_accuracy: 0.9840\n",
      "Epoch 47/50\n",
      "468/468 [==============================] - 5s 11ms/step - loss: 0.0449 - accuracy: 0.9875 - val_loss: 0.0497 - val_accuracy: 0.9833\n",
      "Epoch 48/50\n",
      "468/468 [==============================] - 5s 10ms/step - loss: 0.0452 - accuracy: 0.9872 - val_loss: 0.0489 - val_accuracy: 0.9844\n",
      "Epoch 49/50\n",
      "468/468 [==============================] - 5s 11ms/step - loss: 0.0433 - accuracy: 0.9876 - val_loss: 0.0482 - val_accuracy: 0.9846\n",
      "Epoch 50/50\n",
      "468/468 [==============================] - 5s 10ms/step - loss: 0.0428 - accuracy: 0.9883 - val_loss: 0.0481 - val_accuracy: 0.9845\n",
      "313/313 [==============================] - 1s 2ms/step - loss: 0.0480 - accuracy: 0.9845\n"
     ]
    }
   ],
   "source": [
    "acc, history = train_model(LeNet(), x_train, y_train, x_test, y_test, epochs = 50, batch_size = 128)"
   ],
   "metadata": {
    "collapsed": false,
    "ExecuteTime": {
     "end_time": "2024-09-13T22:46:25.897130Z",
     "start_time": "2024-09-13T22:42:26.275820Z"
    }
   },
   "id": "7e679e5e78716c1",
   "execution_count": 25
  },
  {
   "cell_type": "code",
   "outputs": [
    {
     "name": "stdout",
     "output_type": "stream",
     "text": [
      "Accuracy: 98.450%\n"
     ]
    },
    {
     "data": {
      "text/plain": "<Figure size 800x600 with 1 Axes>",
      "image/png": "[encoded data removed]"
     },
     "metadata": {},
     "output_type": "display_data"
    }
   ],
   "source": [
    "print(f\"Accuracy: {acc*100:.3f}%\")\n",
    "plotting(history)"
   ],
   "metadata": {
    "collapsed": false,
    "ExecuteTime": {
     "end_time": "2024-09-13T22:46:58.805545Z",
     "start_time": "2024-09-13T22:46:58.666282Z"
    }
   },
   "id": "3ca83dc995fc3cc8",
   "execution_count": 26
  }
 ],
 "metadata": {
  "kernelspec": {
   "display_name": "Python 3",
   "language": "python",
   "name": "python3"
  },
  "language_info": {
   "codemirror_mode": {
    "name": "ipython",
    "version": 2
   },
   "file_extension": ".py",
   "mimetype": "text/x-python",
   "name": "python",
   "nbconvert_exporter": "python",
   "pygments_lexer": "ipython2",
   "version": "2.7.6"
  }
 },
 "nbformat": 4,
 "nbformat_minor": 5
}
